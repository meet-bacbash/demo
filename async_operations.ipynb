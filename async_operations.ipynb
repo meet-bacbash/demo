{
 "cells": [
  {
   "cell_type": "code",
   "execution_count": 20,
   "metadata": {},
   "outputs": [],
   "source": [
    "import asyncio as io\n",
    "import time\n",
    "from datetime import datetime as dt"
   ]
  },
  {
   "cell_type": "code",
   "execution_count": 21,
   "metadata": {},
   "outputs": [],
   "source": [
    "def track(function):\n",
    "    async def wrapper(*args, **kwargs):\n",
    "        start = dt.now()\n",
    "        res = await function(*args, **kwargs)\n",
    "        end = dt.now()\n",
    "        print(\"\\n\\nExecution time: \",(end-start).total_seconds())\n",
    "        return res\n",
    "    return wrapper"
   ]
  },
  {
   "cell_type": "code",
   "execution_count": 3,
   "metadata": {},
   "outputs": [
    {
     "name": "stdout",
     "output_type": "stream",
     "text": [
      "GET REQ START---------\n",
      "Reading instrument_0\n",
      "Reading instrument_1\n",
      "Reading instrument_2\n",
      "Reading instrument_3\n",
      "Reading instrument_4\n",
      "Reading instrument_5\n",
      "GET REQ END---------\n",
      "recived data::>> {'height': 120, 'time': '12-45-00', 'unit': 'ft'}\n",
      "Updating instrument_0\n",
      "Reading instrument_6\n",
      "Updating instrument_1\n",
      "Reading instrument_7\n",
      "Updating instrument_2\n",
      "Reading instrument_8\n",
      "Updating instrument_3\n",
      "Reading instrument_9\n",
      "Updating instrument_4\n",
      "POST REQ START---------\n",
      "Updating instrument_5\n",
      "Updating instrument_6\n",
      "Updating instrument_7\n",
      "Updating instrument_8\n",
      "Updating instrument_9\n",
      "POST REQ STOP---------\n",
      "\n",
      "\n",
      "Execution time:  8.012746\n"
     ]
    }
   ],
   "source": [
    "async def get_data():\n",
    "    print(\"GET REQ START---------\")\n",
    "    data = {\n",
    "        \"height\": 120,\n",
    "        \"time\": \"12-45-00\",\n",
    "        \"unit\": \"ft\"\n",
    "    }\n",
    "    # data get req takes 3 seconds\n",
    "    await io.sleep(3)\n",
    "    print(\"GET REQ END---------\")\n",
    "    return data\n",
    "\n",
    "\n",
    "async def update_instrument(data):\n",
    "    for i in range(10):\n",
    "        print(f\"Updating instrument_{i}\")\n",
    "        await io.sleep(0.5)\n",
    "\n",
    "async def take_readings():\n",
    "    for i in range(10):\n",
    "        print(f\"Reading instrument_{i}\")\n",
    "        await io.sleep(0.5)\n",
    "\n",
    "\n",
    "async def upload_readings():\n",
    "    # uploading reading to the sever\n",
    "    # it takes 3 seconds\n",
    "    print(\"POST REQ START---------\")\n",
    "    await io.sleep(3)\n",
    "    print(\"POST REQ STOP---------\")\n",
    "    return True\n",
    "\n",
    "@track\n",
    "async def main():\n",
    "    get_data_cr = io.create_task(get_data())\n",
    "    take_readings_cr = io.create_task(take_readings())\n",
    "    d = await get_data_cr\n",
    "    print(\"recived data::>>\", d)\n",
    "    \n",
    "    update_instruments_cr = io.create_task(update_instrument(d))\n",
    "    await take_readings_cr\n",
    "    await upload_readings()\n",
    "\n",
    "# @track\n",
    "# async def main():\n",
    "#     await io.gather(count(), count(), count())\n",
    "\n",
    "if __name__ == \"__main__\":\n",
    "    await main()"
   ]
  },
  {
   "cell_type": "code",
   "execution_count": 40,
   "metadata": {},
   "outputs": [
    {
     "name": "stdout",
     "output_type": "stream",
     "text": [
      "1\n",
      "????????\n",
      "a 0\n",
      "b 0\n",
      "b 0\n",
      "a 0\n",
      "a 1\n",
      "b 1\n",
      "b 1\n",
      "a 1\n",
      "a 2\n",
      "b 2\n",
      "b 2\n",
      "a 2\n",
      "a 3\n",
      "b 3\n",
      "b 3\n",
      "a 3\n",
      "a 4\n",
      "b 4\n",
      "b 4\n",
      "a 4\n",
      "a 5\n",
      "b 5\n",
      "b 5\n",
      "a 5\n",
      "a 6\n",
      "b 6\n",
      "b 6\n",
      "a 6\n",
      "a 7\n",
      "b 7\n",
      "b 7\n",
      "a 7\n",
      "a 8\n",
      "b 8\n",
      "b 8\n",
      "a 8\n",
      "a 9\n",
      "b 9\n",
      "b 9\n",
      "a 9\n",
      "hello\n",
      "hello\n",
      "hello\n",
      "hello\n"
     ]
    }
   ],
   "source": [
    "async def sleeper(t):\n",
    "    time.sleep(t)\n",
    "\n",
    "async def sleep2(t, name=\"a\"):\n",
    "    for i in range(10):\n",
    "        print(name,i)\n",
    "#         await io.sleep(0.3)\n",
    "        t = io.create_task(sleeper(0.3))\n",
    "        await t\n",
    "            \n",
    "    print(\"hello\")\n",
    "    \n",
    "print(1)\n",
    "t1 = io.create_task(sleep2(4))\n",
    "t2 = io.create_task(sleep2(4,\"b\"))\n",
    "io.gather(sleep2(4,\"b\"), sleep2(4,\"a\"))\n",
    "print(\"????????\")\n",
    "await t1\n",
    "await t2\n"
   ]
  },
  {
   "cell_type": "code",
   "execution_count": 56,
   "metadata": {},
   "outputs": [
    {
     "name": "stdout",
     "output_type": "stream",
     "text": [
      "S:>> data list\n",
      "S:>> data profile\n",
      "D-- data list\n",
      "D:-- data profile\n",
      "\n",
      "\n",
      "Execution time:  3.649483\n",
      "[{'page': 1, 'per_page': 6, 'total': 12, 'total_pages': 2, 'data': [{'id': 1, 'email': 'george.bluth@reqres.in', 'first_name': 'George', 'last_name': 'Bluth', 'avatar': 'https://reqres.in/img/faces/1-image.jpg'}, {'id': 2, 'email': 'janet.weaver@reqres.in', 'first_name': 'Janet', 'last_name': 'Weaver', 'avatar': 'https://reqres.in/img/faces/2-image.jpg'}, {'id': 3, 'email': 'emma.wong@reqres.in', 'first_name': 'Emma', 'last_name': 'Wong', 'avatar': 'https://reqres.in/img/faces/3-image.jpg'}, {'id': 4, 'email': 'eve.holt@reqres.in', 'first_name': 'Eve', 'last_name': 'Holt', 'avatar': 'https://reqres.in/img/faces/4-image.jpg'}, {'id': 5, 'email': 'charles.morris@reqres.in', 'first_name': 'Charles', 'last_name': 'Morris', 'avatar': 'https://reqres.in/img/faces/5-image.jpg'}, {'id': 6, 'email': 'tracey.ramos@reqres.in', 'first_name': 'Tracey', 'last_name': 'Ramos', 'avatar': 'https://reqres.in/img/faces/6-image.jpg'}], 'support': {'url': 'https://reqres.in/#support-heading', 'text': 'To keep ReqRes free, contributions towards server costs are appreciated!'}}, {'page': 1, 'per_page': 6, 'total': 12, 'total_pages': 2, 'data': [{'id': 1, 'email': 'george.bluth@reqres.in', 'first_name': 'George', 'last_name': 'Bluth', 'avatar': 'https://reqres.in/img/faces/1-image.jpg'}, {'id': 2, 'email': 'janet.weaver@reqres.in', 'first_name': 'Janet', 'last_name': 'Weaver', 'avatar': 'https://reqres.in/img/faces/2-image.jpg'}, {'id': 3, 'email': 'emma.wong@reqres.in', 'first_name': 'Emma', 'last_name': 'Wong', 'avatar': 'https://reqres.in/img/faces/3-image.jpg'}, {'id': 4, 'email': 'eve.holt@reqres.in', 'first_name': 'Eve', 'last_name': 'Holt', 'avatar': 'https://reqres.in/img/faces/4-image.jpg'}, {'id': 5, 'email': 'charles.morris@reqres.in', 'first_name': 'Charles', 'last_name': 'Morris', 'avatar': 'https://reqres.in/img/faces/5-image.jpg'}, {'id': 6, 'email': 'tracey.ramos@reqres.in', 'first_name': 'Tracey', 'last_name': 'Ramos', 'avatar': 'https://reqres.in/img/faces/6-image.jpg'}], 'support': {'url': 'https://reqres.in/#support-heading', 'text': 'To keep ReqRes free, contributions towards server costs are appreciated!'}}, {'page': 2, 'per_page': 6, 'total': 12, 'total_pages': 2, 'data': [{'id': 7, 'email': 'michael.lawson@reqres.in', 'first_name': 'Michael', 'last_name': 'Lawson', 'avatar': 'https://reqres.in/img/faces/7-image.jpg'}, {'id': 8, 'email': 'lindsay.ferguson@reqres.in', 'first_name': 'Lindsay', 'last_name': 'Ferguson', 'avatar': 'https://reqres.in/img/faces/8-image.jpg'}, {'id': 9, 'email': 'tobias.funke@reqres.in', 'first_name': 'Tobias', 'last_name': 'Funke', 'avatar': 'https://reqres.in/img/faces/9-image.jpg'}, {'id': 10, 'email': 'byron.fields@reqres.in', 'first_name': 'Byron', 'last_name': 'Fields', 'avatar': 'https://reqres.in/img/faces/10-image.jpg'}, {'id': 11, 'email': 'george.edwards@reqres.in', 'first_name': 'George', 'last_name': 'Edwards', 'avatar': 'https://reqres.in/img/faces/11-image.jpg'}, {'id': 12, 'email': 'rachel.howell@reqres.in', 'first_name': 'Rachel', 'last_name': 'Howell', 'avatar': 'https://reqres.in/img/faces/12-image.jpg'}], 'support': {'url': 'https://reqres.in/#support-heading', 'text': 'To keep ReqRes free, contributions towards server costs are appreciated!'}}, {'page': 3, 'per_page': 6, 'total': 12, 'total_pages': 2, 'data': [], 'support': {'url': 'https://reqres.in/#support-heading', 'text': 'To keep ReqRes free, contributions towards server costs are appreciated!'}}, {'page': 4, 'per_page': 6, 'total': 12, 'total_pages': 2, 'data': [], 'support': {'url': 'https://reqres.in/#support-heading', 'text': 'To keep ReqRes free, contributions towards server costs are appreciated!'}}, {'page': 5, 'per_page': 6, 'total': 12, 'total_pages': 2, 'data': [], 'support': {'url': 'https://reqres.in/#support-heading', 'text': 'To keep ReqRes free, contributions towards server costs are appreciated!'}}, {'page': 6, 'per_page': 6, 'total': 12, 'total_pages': 2, 'data': [], 'support': {'url': 'https://reqres.in/#support-heading', 'text': 'To keep ReqRes free, contributions towards server costs are appreciated!'}}, {'page': 7, 'per_page': 6, 'total': 12, 'total_pages': 2, 'data': [], 'support': {'url': 'https://reqres.in/#support-heading', 'text': 'To keep ReqRes free, contributions towards server costs are appreciated!'}}, {'page': 8, 'per_page': 6, 'total': 12, 'total_pages': 2, 'data': [], 'support': {'url': 'https://reqres.in/#support-heading', 'text': 'To keep ReqRes free, contributions towards server costs are appreciated!'}}, {'page': 9, 'per_page': 6, 'total': 12, 'total_pages': 2, 'data': [], 'support': {'url': 'https://reqres.in/#support-heading', 'text': 'To keep ReqRes free, contributions towards server costs are appreciated!'}}, {}, {'data': {'id': 1, 'name': 'cerulean', 'year': 2000, 'color': '#98B2D1', 'pantone_value': '15-4020'}, 'support': {'url': 'https://reqres.in/#support-heading', 'text': 'To keep ReqRes free, contributions towards server costs are appreciated!'}}, {'data': {'id': 2, 'name': 'fuchsia rose', 'year': 2001, 'color': '#C74375', 'pantone_value': '17-2031'}, 'support': {'url': 'https://reqres.in/#support-heading', 'text': 'To keep ReqRes free, contributions towards server costs are appreciated!'}}, {'data': {'id': 3, 'name': 'true red', 'year': 2002, 'color': '#BF1932', 'pantone_value': '19-1664'}, 'support': {'url': 'https://reqres.in/#support-heading', 'text': 'To keep ReqRes free, contributions towards server costs are appreciated!'}}, {'data': {'id': 4, 'name': 'aqua sky', 'year': 2003, 'color': '#7BC4C4', 'pantone_value': '14-4811'}, 'support': {'url': 'https://reqres.in/#support-heading', 'text': 'To keep ReqRes free, contributions towards server costs are appreciated!'}}, {'data': {'id': 5, 'name': 'tigerlily', 'year': 2004, 'color': '#E2583E', 'pantone_value': '17-1456'}, 'support': {'url': 'https://reqres.in/#support-heading', 'text': 'To keep ReqRes free, contributions towards server costs are appreciated!'}}, {'data': {'id': 6, 'name': 'blue turquoise', 'year': 2005, 'color': '#53B0AE', 'pantone_value': '15-5217'}, 'support': {'url': 'https://reqres.in/#support-heading', 'text': 'To keep ReqRes free, contributions towards server costs are appreciated!'}}, {'data': {'id': 7, 'name': 'sand dollar', 'year': 2006, 'color': '#DECDBE', 'pantone_value': '13-1106'}, 'support': {'url': 'https://reqres.in/#support-heading', 'text': 'To keep ReqRes free, contributions towards server costs are appreciated!'}}, {'data': {'id': 8, 'name': 'chili pepper', 'year': 2007, 'color': '#9B1B30', 'pantone_value': '19-1557'}, 'support': {'url': 'https://reqres.in/#support-heading', 'text': 'To keep ReqRes free, contributions towards server costs are appreciated!'}}, {'data': {'id': 9, 'name': 'blue iris', 'year': 2008, 'color': '#5A5B9F', 'pantone_value': '18-3943'}, 'support': {'url': 'https://reqres.in/#support-heading', 'text': 'To keep ReqRes free, contributions towards server costs are appreciated!'}}]\n"
     ]
    }
   ],
   "source": [
    "import requests as rq\n",
    "import json\n",
    "\n",
    "async def make_r(url):\n",
    "    return rq.get(url)\n",
    "\n",
    "async def get_data_list(i=1):\n",
    "    res = []\n",
    "    print(\"S:>> data list\")\n",
    "    for i in range(i):\n",
    "#         data = rq.get(f\"https://reqres.in/api/users?page={i}\")\n",
    "#         time.sleep(0.5)\n",
    "        t1 = io.create_task(make_r(f\"https://reqres.in/api/users?page={i}\"))\n",
    "        data = await t1\n",
    "        res.append(json.loads(data.text))\n",
    "    print(\"D-- data list\")\n",
    "    return res\n",
    "\n",
    "\n",
    "async def get_data_profile(i=1):\n",
    "    res = []\n",
    "    print(\"S:>> data profile\")\n",
    "    for i in range(i):\n",
    "        t2 = io.create_task(make_r(f\"https://reqres.in/api/unknown/{i}\"))\n",
    "        data = await t2\n",
    "#         data = rq.get(f\"https://reqres.in/api/unknown/{i}\")\n",
    "        res.append(json.loads(data.text))\n",
    "    print(\"D:-- data profile\")\n",
    "    return res\n",
    "\n",
    "@track\n",
    "async def main():\n",
    "    t1 = io.create_task(get_data_list(10))\n",
    "    t2 = io.create_task(get_data_profile(10))\n",
    "    return await t1 + await t2\n",
    "\n",
    "print(await main())"
   ]
  },
  {
   "cell_type": "code",
   "execution_count": 36,
   "metadata": {},
   "outputs": [
    {
     "name": "stdout",
     "output_type": "stream",
     "text": [
      "Calling endpoint users...2023-10-12 17:22:51.603508\n",
      "Calling endpoint Orders...2023-10-12 17:22:51.603779\n",
      "Calling endpoint Purchase...2023-10-12 17:22:51.603835\n",
      "Response got from endpoing Orders!...2023-10-12 17:22:54.607172\n",
      "Response got from endpoing users!...2023-10-12 17:22:56.606620\n",
      "Response got from endpoing Purchase!...2023-10-12 17:22:56.606787\n"
     ]
    },
    {
     "data": {
      "text/plain": [
       "['users-5', 'Orders-3', 'Purchase-5']"
      ]
     },
     "execution_count": 36,
     "metadata": {},
     "output_type": "execute_result"
    }
   ],
   "source": [
    "async def call_endpoint(endpoint, t=2):\n",
    "    print(f\"Calling endpoint {endpoint}...{dt.now()}\")\n",
    "    await io.sleep(t)\n",
    "    print(f\"Response got from endpoing {endpoint}!...{dt.now()}\")\n",
    "    return endpoint + \"-\" + str(t)\n",
    "\n",
    "async def main():\n",
    "    inputs = ((\"users\",5), (\"Orders\",3), (\"Purchase\",5))\n",
    "    return await io.gather(*(call_endpoint(point, time) for point, time in inputs))\n",
    "\n",
    "await main()"
   ]
  },
  {
   "cell_type": "code",
   "execution_count": 43,
   "metadata": {},
   "outputs": [
    {
     "name": "stdout",
     "output_type": "stream",
     "text": [
      "Collecting requests\n",
      "\u001b[?25l  Downloading https://files.pythonhosted.org/packages/70/8e/0e2d847013cb52cd35b38c009bb167a1a26b2ce6cd6965bf26b47bc0bf44/requests-2.31.0-py3-none-any.whl (62kB)\n",
      "\u001b[K     |████████████████████████████████| 71kB 2.0MB/s eta 0:00:01\n",
      "\u001b[?25hRequirement already satisfied: certifi>=2017.4.17 in /snap/jupyter/6/lib/python3.7/site-packages (from requests) (2019.3.9)\n",
      "Collecting urllib3<3,>=1.21.1 (from requests)\n",
      "\u001b[?25l  Downloading https://files.pythonhosted.org/packages/26/40/9957270221b6d3e9a3b92fdfba80dd5c9661ff45a664b47edd5d00f707f5/urllib3-2.0.6-py3-none-any.whl (123kB)\n",
      "\u001b[K     |████████████████████████████████| 133kB 4.8MB/s eta 0:00:01\n",
      "\u001b[?25hCollecting charset-normalizer<4,>=2 (from requests)\n",
      "\u001b[?25l  Downloading https://files.pythonhosted.org/packages/a3/dc/efab5b27839f04be4b8058c1eb85b7ab7dbc55ef8067250bea0518392756/charset_normalizer-3.3.0-py3-none-any.whl (48kB)\n",
      "\u001b[K     |████████████████████████████████| 51kB 20.8MB/s eta 0:00:01\n",
      "\u001b[?25hCollecting idna<4,>=2.5 (from requests)\n",
      "\u001b[?25l  Downloading https://files.pythonhosted.org/packages/fc/34/3030de6f1370931b9dbb4dad48f6ab1015ab1d32447850b9fc94e60097be/idna-3.4-py3-none-any.whl (61kB)\n",
      "\u001b[K     |████████████████████████████████| 71kB 6.6MB/s eta 0:00:01\n",
      "\u001b[?25hInstalling collected packages: urllib3, charset-normalizer, idna, requests\n",
      "Successfully installed charset-normalizer-3.3.0 idna-3.4 requests-2.31.0 urllib3-2.0.6\n",
      "Note: you may need to restart the kernel to use updated packages.\n"
     ]
    }
   ],
   "source": [
    "pip install requests"
   ]
  }
 ],
 "metadata": {
  "kernelspec": {
   "display_name": "Python 3",
   "language": "python",
   "name": "python3"
  },
  "language_info": {
   "codemirror_mode": {
    "name": "ipython",
    "version": 3
   },
   "file_extension": ".py",
   "mimetype": "text/x-python",
   "name": "python",
   "nbconvert_exporter": "python",
   "pygments_lexer": "ipython3",
   "version": "3.7.3"
  }
 },
 "nbformat": 4,
 "nbformat_minor": 2
}
